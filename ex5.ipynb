{
 "cells": [
  {
   "cell_type": "markdown",
   "metadata": {
    "collapsed": true,
    "pycharm": {
     "name": "#%% md\n"
    }
   },
   "source": [
    "# 1 正则化线性回归\n",
    "这一部分，我们需要先对一个水库的流出水量以及水库水位进行正则化线性归回。然后将会探讨方差-偏差的问题\n",
    "\n",
    "## 1.1 数据可视化"
   ]
  },
  {
   "cell_type": "code",
   "execution_count": 38,
   "outputs": [],
   "source": [
    "import numpy as np\n",
    "import scipy.io as sio\n",
    "import scipy.optimize as opt\n",
    "import pandas as pd\n",
    "import matplotlib.pyplot as plt\n",
    "import seaborn as sns"
   ],
   "metadata": {
    "collapsed": false,
    "pycharm": {
     "name": "#%%\n",
     "is_executing": false
    }
   }
  },
  {
   "cell_type": "code",
   "execution_count": 39,
   "outputs": [
    {
     "data": {
      "text/plain": "((12,), (12,), (21,), (21,), (21,), (21,))"
     },
     "metadata": {},
     "output_type": "execute_result",
     "execution_count": 39
    }
   ],
   "source": [
    "data = sio.loadmat('E:\\机器学习(吴恩达)\\ML数据\\ml_ex5\\ex5data1.mat')\n",
    "X, y, Xval, yval, Xtest, ytest = map(np.ravel,[data['X'], data['y'], data['Xval'], data['yval'], data['Xtest'], data['ytest']])\n",
    "X.shape, y.shape, Xval.shape, yval.shape, Xtest.shape, ytest.shape"
   ],
   "metadata": {
    "collapsed": false,
    "pycharm": {
     "name": "#%%\n",
     "is_executing": false
    }
   }
  },
  {
   "cell_type": "code",
   "execution_count": 40,
   "outputs": [
    {
     "data": {
      "text/plain": "<Figure size 864x576 with 1 Axes>",
      "image/png": "[encoded data removed]"
     },
     "metadata": {
      "needs_background": "light"
     },
     "output_type": "display_data"
    }
   ],
   "source": [
    "fig, ax = plt.subplots(figsize=(12,8))\n",
    "ax.scatter(X, y)\n",
    "ax.set_xlabel('water_level')\n",
    "ax.set_ylabel('flow')\n",
    "plt.show()"
   ],
   "metadata": {
    "collapsed": false,
    "pycharm": {
     "name": "#%%\n",
     "is_executing": false
    }
   }
  },
  {
   "cell_type": "markdown",
   "source": [
    "## 1.2 正则化线性回归代价函数\n",
    "\n",
    "其中$\\lambda$是正则化参数，他控制了正则化的程度。正则化项在原来的代价$J$上加了一个惩罚项。随着参数$\\theta_j$的变大，惩罚项也会增大。另外，你不需要正则化$\\theta_0$\n",
    "下面完场计算正则化线性回归代价函数的代码。theta初始值为[1,1]，输出应该为303.993"
   ],
   "metadata": {
    "collapsed": false
   }
  },
  {
   "cell_type": "code",
   "execution_count": 41,
   "outputs": [],
   "source": [
    "X, Xval, Xtest = [np.insert(x.reshape(x.shape[0], 1), 0, np.ones(x.shape[0]), axis=1) for x in (X, Xval, Xtest)]"
   ],
   "metadata": {
    "collapsed": false,
    "pycharm": {
     "name": "#%%\n",
     "is_executing": false
    }
   }
  },
  {
   "cell_type": "code",
   "execution_count": 42,
   "outputs": [],
   "source": [
    "def cost(theta, X, y):\n",
    "    m = X.shape[0]\n",
    "\n",
    "    inner = X @ theta - y \n",
    "\n",
    "    square_sum = inner.T @ inner\n",
    "    cost = square_sum / (2 * m)\n",
    "\n",
    "    return cost"
   ],
   "metadata": {
    "collapsed": false,
    "pycharm": {
     "name": "#%%\n",
     "is_executing": false
    }
   }
  },
  {
   "cell_type": "code",
   "execution_count": 43,
   "outputs": [],
   "source": [
    "def costReg(theta, X, y, reg = 1):\n",
    "    \n",
    "    m = X.shape[0]\n",
    "\n",
    "    regularized_term = (reg / (2 * m)) * np.power(theta[1:], 2).sum()\n",
    "\n",
    "    return cost(theta, X, y) + regularized_term"
   ],
   "metadata": {
    "collapsed": false,
    "pycharm": {
     "name": "#%%\n",
     "is_executing": false
    }
   }
  },
  {
   "cell_type": "code",
   "execution_count": 44,
   "outputs": [
    {
     "data": {
      "text/plain": "303.9931922202643"
     },
     "metadata": {},
     "output_type": "execute_result",
     "execution_count": 44
    }
   ],
   "source": [
    "theta = np.ones(X.shape[1])\n",
    "costReg(theta, X, y, 1)"
   ],
   "metadata": {
    "collapsed": false,
    "pycharm": {
     "name": "#%%\n",
     "is_executing": false
    }
   }
  },
  {
   "cell_type": "markdown",
   "source": [
    "## 1.3 正则化线性回归的梯度"
   ],
   "metadata": {
    "collapsed": false
   }
  },
  {
   "cell_type": "code",
   "execution_count": 45,
   "outputs": [],
   "source": [
    "def gradient(theta, X, y):\n",
    "    m = X.shape[0]\n",
    "\n",
    "    inner = X.T @ (X @ theta - y)  # (m,n).T @ (m, 1) -> (n, 1)\n",
    "\n",
    "    return inner / m"
   ],
   "metadata": {
    "collapsed": false,
    "pycharm": {
     "name": "#%%\n",
     "is_executing": false
    }
   }
  },
  {
   "cell_type": "code",
   "execution_count": 46,
   "outputs": [],
   "source": [
    "def gradientReg(theta, X, y, reg):\n",
    "    m = X.shape[0]\n",
    "\n",
    "    regularized_term = theta.copy()  # same shape as theta\n",
    "    regularized_term[0] = 0  # don't regularize intercept theta\n",
    "\n",
    "    regularized_term = (reg / m) * regularized_term\n",
    "\n",
    "    return gradient(theta, X, y) + regularized_term"
   ],
   "metadata": {
    "collapsed": false,
    "pycharm": {
     "name": "#%%\n",
     "is_executing": false
    }
   }
  },
  {
   "cell_type": "code",
   "execution_count": 47,
   "outputs": [
    {
     "data": {
      "text/plain": "array([-15.30301567, 598.25074417])"
     },
     "metadata": {},
     "output_type": "execute_result",
     "execution_count": 47
    }
   ],
   "source": [
    "gradientReg(theta, X, y, 1)"
   ],
   "metadata": {
    "collapsed": false,
    "pycharm": {
     "name": "#%%\n",
     "is_executing": false
    }
   }
  },
  {
   "cell_type": "markdown",
   "source": [
    "## 1.4 拟合线性回归\n",
    "调用工具库找到$\\theta$最优解，在这个部分，我们令$\\lambda=0$。因为我们现在训练的是2维的$\\theta$，所以正则化不会对这种低维的$\\theta$有很大的帮助。\n",
    "完成之后，将数据和拟合曲线可视化。"
   ],
   "metadata": {
    "collapsed": false
   }
  },
  {
   "cell_type": "code",
   "execution_count": 48,
   "outputs": [
    {
     "data": {
      "text/plain": "array([13.08790348,  0.36777923])"
     },
     "metadata": {},
     "output_type": "execute_result",
     "execution_count": 48
    }
   ],
   "source": [
    "theta = np.ones(X.shape[1])\n",
    "final_theta = opt.minimize(fun=costReg, x0=theta, args=(X, y, 0), method='TNC', jac=gradientReg, options={'disp': True}).x\n",
    "final_theta"
   ],
   "metadata": {
    "collapsed": false,
    "pycharm": {
     "name": "#%%\n",
     "is_executing": false
    }
   }
  },
  {
   "cell_type": "code",
   "execution_count": 49,
   "outputs": [
    {
     "data": {
      "text/plain": "<Figure size 864x576 with 1 Axes>",
      "image/png": "[encoded data removed]"
     },
     "metadata": {
      "needs_background": "light"
     },
     "output_type": "display_data"
    }
   ],
   "source": [
    "b = final_theta[0] # intercept\n",
    "m = final_theta[1] # slope\n",
    "\n",
    "fig, ax = plt.subplots(figsize=(12,8))\n",
    "plt.scatter(X[:,1], y, c='r', label=\"Training data\")\n",
    "plt.plot(X[:, 1], X[:, 1]*m + b, c='b', label=\"Prediction\")\n",
    "ax.set_xlabel('water_level')\n",
    "ax.set_ylabel('flow')\n",
    "ax.legend()\n",
    "plt.show()"
   ],
   "metadata": {
    "collapsed": false,
    "pycharm": {
     "name": "#%%\n",
     "is_executing": false
    }
   }
  },
  {
   "cell_type": "markdown",
   "source": [
    "# 2 方差和偏差\n",
    "机器学习中的一个重要概念是偏差-方差权衡。偏差较大的模型会欠拟合，而方差较大的模型会过拟合。这部分会让你画出学习曲线来判断方差和偏差的问题。\n",
    "\n",
    "## 2.1 学习曲线\n",
    "1.使用训练集的子集来拟合应模型\n",
    "2.在计算训练代价和验证集代价时，没有用正则化\n",
    "3.记住使用相同的训练集子集来计算训练代价"
   ],
   "metadata": {
    "collapsed": false
   }
  },
  {
   "cell_type": "code",
   "execution_count": 50,
   "outputs": [],
   "source": [
    "def linear_regression(X, y, l=1):\n",
    "    \"\"\"linear regression\n",
    "    args:\n",
    "        X: feature matrix, (m, n+1) # with incercept x0=1\n",
    "        y: target vector, (m, )\n",
    "        l: lambda constant for regularization\n",
    "\n",
    "    return: trained parameters\n",
    "    \"\"\"\n",
    "    # init theta\n",
    "    theta = np.ones(X.shape[1])\n",
    "\n",
    "    # train it\n",
    "    res = opt.minimize(fun=costReg,\n",
    "                       x0=theta,\n",
    "                       args=(X, y, l),\n",
    "                       method='TNC',\n",
    "                       jac=gradientReg,\n",
    "                       options={'disp': True})\n",
    "    return res"
   ],
   "metadata": {
    "collapsed": false,
    "pycharm": {
     "name": "#%%\n",
     "is_executing": false
    }
   }
  },
  {
   "cell_type": "code",
   "execution_count": 51,
   "outputs": [],
   "source": [
    "training_cost, cv_cost = [], []"
   ],
   "metadata": {
    "collapsed": false,
    "pycharm": {
     "name": "#%%\n",
     "is_executing": false
    }
   }
  },
  {
   "cell_type": "code",
   "execution_count": 52,
   "outputs": [],
   "source": [
    "m = X.shape[0]\n",
    "for i in range(1, m+1):\n",
    "    res = linear_regression(X[:i, :], y[:i], 0)\n",
    "    \n",
    "    tc = costReg(res.x, X[:i, :], y[:i], 0)\n",
    "    cv = costReg(res.x, Xval, yval, 0)\n",
    "   \n",
    "    training_cost.append(tc)\n",
    "    cv_cost.append(cv)"
   ],
   "metadata": {
    "collapsed": false,
    "pycharm": {
     "name": "#%%\n",
     "is_executing": false
    }
   }
  },
  {
   "cell_type": "code",
   "execution_count": 53,
   "outputs": [
    {
     "data": {
      "text/plain": "<Figure size 864x576 with 1 Axes>",
      "image/png": "[encoded data removed]"
     },
     "metadata": {
      "needs_background": "light"
     },
     "output_type": "display_data"
    }
   ],
   "source": [
    "fig, ax = plt.subplots(figsize=(12,8))\n",
    "plt.plot(np.arange(1, m+1), training_cost, label='training cost')\n",
    "plt.plot(np.arange(1, m+1), cv_cost, label='cv cost')\n",
    "plt.legend()\n",
    "plt.show()"
   ],
   "metadata": {
    "collapsed": false,
    "pycharm": {
     "name": "#%%\n",
     "is_executing": false
    }
   }
  },
  {
   "cell_type": "markdown",
   "source": [
    "# 3 多项式回归\n",
    "线性回归对于现有数据来说太简单了，会欠拟合，我们需要多添加一些特征。\n",
    "写一个函数，输入原始X，和幂的次数p，返回X的1到p次幂"
   ],
   "metadata": {
    "collapsed": false
   }
  },
  {
   "cell_type": "code",
   "execution_count": 54,
   "outputs": [],
   "source": [
    "def poly_features(x, power, as_ndarray=False):\n",
    "    data = {'f{}'.format(i): np.power(x, i) for i in range(1, power + 1)}\n",
    "    df = pd.DataFrame(data)\n",
    "\n",
    "    return df.values if as_ndarray else df"
   ],
   "metadata": {
    "collapsed": false,
    "pycharm": {
     "name": "#%%\n",
     "is_executing": false
    }
   }
  },
  {
   "cell_type": "code",
   "execution_count": 55,
   "outputs": [],
   "source": [
    "data = sio.loadmat('E:\\机器学习(吴恩达)\\ML数据\\ml_ex5\\ex5data1.mat')\n",
    "X, y, Xval, yval, Xtest, ytest = map(np.ravel,[data['X'], data['y'], data['Xval'], data['yval'], data['Xtest'], data['ytest']])"
   ],
   "metadata": {
    "collapsed": false,
    "pycharm": {
     "name": "#%%\n",
     "is_executing": false
    }
   }
  },
  {
   "cell_type": "code",
   "execution_count": 57,
   "outputs": [
    {
     "data": {
      "text/plain": "           f1           f2             f3\n0  -15.936758   253.980260   -4047.621971\n1  -29.152979   849.896197  -24777.006175\n2   36.189549  1309.683430   47396.852168\n3   37.492187  1405.664111   52701.422173\n4  -48.058829  2309.651088 -110999.127750\n5   -8.941458    79.949670    -714.866612\n6   15.307793   234.328523    3587.052500\n7  -34.706266  1204.524887  -41804.560890\n8    1.389154     1.929750       2.680720\n9  -44.383760  1969.918139  -87432.373590\n10   7.013502    49.189211     344.988637\n11  22.762749   518.142738   11794.353058",
      "text/html": "<div>\n<style scoped>\n    .dataframe tbody tr th:only-of-type {\n        vertical-align: middle;\n    }\n\n    .dataframe tbody tr th {\n        vertical-align: top;\n    }\n\n    .dataframe thead th {\n        text-align: right;\n    }\n</style>\n<table border=\"1\" class=\"dataframe\">\n  <thead>\n    <tr style=\"text-align: right;\">\n      <th></th>\n      <th>f1</th>\n      <th>f2</th>\n      <th>f3</th>\n    </tr>\n  </thead>\n  <tbody>\n    <tr>\n      <td>0</td>\n      <td>-15.936758</td>\n      <td>253.980260</td>\n      <td>-4047.621971</td>\n    </tr>\n    <tr>\n      <td>1</td>\n      <td>-29.152979</td>\n      <td>849.896197</td>\n      <td>-24777.006175</td>\n    </tr>\n    <tr>\n      <td>2</td>\n      <td>36.189549</td>\n      <td>1309.683430</td>\n      <td>47396.852168</td>\n    </tr>\n    <tr>\n      <td>3</td>\n      <td>37.492187</td>\n      <td>1405.664111</td>\n      <td>52701.422173</td>\n    </tr>\n    <tr>\n      <td>4</td>\n      <td>-48.058829</td>\n      <td>2309.651088</td>\n      <td>-110999.127750</td>\n    </tr>\n    <tr>\n      <td>5</td>\n      <td>-8.941458</td>\n      <td>79.949670</td>\n      <td>-714.866612</td>\n    </tr>\n    <tr>\n      <td>6</td>\n      <td>15.307793</td>\n      <td>234.328523</td>\n      <td>3587.052500</td>\n    </tr>\n    <tr>\n      <td>7</td>\n      <td>-34.706266</td>\n      <td>1204.524887</td>\n      <td>-41804.560890</td>\n    </tr>\n    <tr>\n      <td>8</td>\n      <td>1.389154</td>\n      <td>1.929750</td>\n      <td>2.680720</td>\n    </tr>\n    <tr>\n      <td>9</td>\n      <td>-44.383760</td>\n      <td>1969.918139</td>\n      <td>-87432.373590</td>\n    </tr>\n    <tr>\n      <td>10</td>\n      <td>7.013502</td>\n      <td>49.189211</td>\n      <td>344.988637</td>\n    </tr>\n    <tr>\n      <td>11</td>\n      <td>22.762749</td>\n      <td>518.142738</td>\n      <td>11794.353058</td>\n    </tr>\n  </tbody>\n</table>\n</div>"
     },
     "metadata": {},
     "output_type": "execute_result",
     "execution_count": 57
    }
   ],
   "source": [
    "poly_features(X, power=3)"
   ],
   "metadata": {
    "collapsed": false,
    "pycharm": {
     "name": "#%%\n",
     "is_executing": false
    }
   }
  },
  {
   "cell_type": "markdown",
   "source": [
    "# 3.1 多项式回归\n",
    "1. 使用之前的代价函数和梯度函数\n",
    "2. 扩展特征到8阶特征\n",
    "3. 使用 **归一化** 来处理 $x^n$ \n",
    "4. $\\lambda=0$"
   ],
   "metadata": {
    "collapsed": false,
    "pycharm": {
     "name": "#%% md\n"
    }
   }
  },
  {
   "cell_type": "code",
   "execution_count": 58,
   "outputs": [],
   "source": [
    "def normalize_feature(df):\n",
    "    \"\"\"Applies function along input axis(default 0) of DataFrame.\"\"\"\n",
    "    return df.apply(lambda column: (column - column.mean()) / column.std())"
   ],
   "metadata": {
    "collapsed": false,
    "pycharm": {
     "name": "#%%\n",
     "is_executing": false
    }
   }
  },
  {
   "cell_type": "code",
   "execution_count": 59,
   "outputs": [],
   "source": [
    "def prepare_poly_data(*args, power):\n",
    "    \"\"\"\n",
    "    args: keep feeding in X, Xval, or Xtest\n",
    "        will return in the same order\n",
    "    \"\"\"\n",
    "    def prepare(x):\n",
    "        # expand feature\n",
    "        df = poly_features(x, power=power)\n",
    "\n",
    "        # normalization\n",
    "        ndarr = normalize_feature(df).values\n",
    "\n",
    "        # add intercept term\n",
    "        return np.insert(ndarr, 0, np.ones(ndarr.shape[0]), axis=1)\n",
    "\n",
    "    return [prepare(x) for x in args]"
   ],
   "metadata": {
    "collapsed": false,
    "pycharm": {
     "name": "#%%\n",
     "is_executing": false
    }
   }
  },
  {
   "cell_type": "code",
   "execution_count": 60,
   "outputs": [
    {
     "data": {
      "text/plain": "array([[ 1.00000000e+00, -3.62140776e-01, -7.55086688e-01,\n         1.82225876e-01, -7.06189908e-01,  3.06617917e-01,\n        -5.90877673e-01,  3.44515797e-01, -5.08481165e-01],\n       [ 1.00000000e+00, -8.03204845e-01,  1.25825266e-03,\n        -2.47936991e-01, -3.27023420e-01,  9.33963187e-02,\n        -4.35817606e-01,  2.55416116e-01, -4.48912493e-01],\n       [ 1.00000000e+00,  1.37746700e+00,  5.84826715e-01,\n         1.24976856e+00,  2.45311974e-01,  9.78359696e-01,\n        -1.21556976e-02,  7.56568484e-01, -1.70352114e-01]])"
     },
     "metadata": {},
     "output_type": "execute_result",
     "execution_count": 60
    }
   ],
   "source": [
    "X_poly, Xval_poly, Xtest_poly= prepare_poly_data(X, Xval, Xtest, power=8)\n",
    "X_poly[:3, :]"
   ],
   "metadata": {
    "collapsed": false,
    "pycharm": {
     "name": "#%%\n",
     "is_executing": false
    }
   }
  },
  {
   "cell_type": "code",
   "execution_count": 61,
   "outputs": [],
   "source": [
    "# 画出学习曲线\n",
    "#首先，我们没有使用正则化，所以 $\\lambda=0$\n",
    "\n",
    "def plot_learning_curve(X, Xinit, y, Xval, yval, l=0):\n",
    "    training_cost, cv_cost = [], []\n",
    "    m = X.shape[0]\n",
    "\n",
    "    for i in range(1, m + 1):\n",
    "        # regularization applies here for fitting parameters\n",
    "        res = linear_regression(X[:i, :], y[:i], l=l)\n",
    "\n",
    "        # remember, when you compute the cost here, you are computing\n",
    "        # non-regularized cost. Regularization is used to fit parameters only\n",
    "        tc = cost(res.x, X[:i, :], y[:i])\n",
    "        cv = cost(res.x, Xval, yval)\n",
    "\n",
    "        training_cost.append(tc)\n",
    "        cv_cost.append(cv)\n",
    "\n",
    "    fig, ax = plt.subplots(2,  1, figsize=(12, 12))\n",
    "    ax[0].plot(np.arange(1, m + 1), training_cost, label='training cost')\n",
    "    ax[0].plot(np.arange(1, m + 1), cv_cost, label='cv cost')\n",
    "    ax[0].legend()\n",
    "\n",
    "    fitx = np.linspace(-50, 50, 100) \n",
    "    fitxtmp = prepare_poly_data(fitx, power=8)\n",
    "    fity = np.dot(prepare_poly_data(fitx, power=8)[0], linear_regression(X, y, l).x.T)\n",
    "    \n",
    "    ax[1].plot(fitx, fity, c='r', label='fitcurve')\n",
    "    ax[1].scatter(Xinit, y, c='b', label='initial_Xy')\n",
    "    \n",
    "    ax[1].set_xlabel('water_level')\n",
    "    ax[1].set_ylabel('flow')"
   ],
   "metadata": {
    "collapsed": false,
    "pycharm": {
     "name": "#%%\n",
     "is_executing": false
    }
   }
  },
  {
   "cell_type": "code",
   "execution_count": null,
   "outputs": [],
   "source": [
    "plot_learning_curve(X_poly, X, y, Xval_poly, yval, l=0)\n",
    "plt.show()\n"
   ],
   "metadata": {
    "collapsed": false,
    "pycharm": {
     "name": "#%%\n"
    }
   }
  }
 ],
 "metadata": {
  "kernelspec": {
   "display_name": "Python 3",
   "language": "python",
   "name": "python3"
  },
  "language_info": {
   "codemirror_mode": {
    "name": "ipython",
    "version": 2
   },
   "file_extension": ".py",
   "mimetype": "text/x-python",
   "name": "python",
   "nbconvert_exporter": "python",
   "pygments_lexer": "ipython2",
   "version": "2.7.6"
  },
  "pycharm": {
   "stem_cell": {
    "cell_type": "raw",
    "source": [],
    "metadata": {
     "collapsed": false
    }
   }
  }
 },
 "nbformat": 4,
 "nbformat_minor": 0
}