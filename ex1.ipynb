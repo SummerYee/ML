{
 "cells": [
  {
   "cell_type": "code",
   "execution_count": 251,
   "metadata": {
    "collapsed": true,
    "pycharm": {
     "is_executing": false
    }
   },
   "outputs": [],
   "source": [
    "import numpy as np\n",
    "import pandas as pd\n",
    "import matplotlib.pyplot as plt"
   ]
  },
  {
   "cell_type": "markdown",
   "source": [
    "# 1 简单练习\n",
    "\n",
    "  输出一个5*5的矩阵\n",
    "  "
   ],
   "metadata": {
    "collapsed": false,
    "pycharm": {
     "name": "#%% md\n"
    }
   }
  },
  {
   "cell_type": "code",
   "execution_count": 252,
   "outputs": [
    {
     "data": {
      "text/plain": "array([[1., 0., 0., 0., 0.],\n       [0., 1., 0., 0., 0.],\n       [0., 0., 1., 0., 0.],\n       [0., 0., 0., 1., 0.],\n       [0., 0., 0., 0., 1.]])"
     },
     "metadata": {},
     "output_type": "execute_result",
     "execution_count": 252
    }
   ],
   "source": [
    "A = np.eye(5)\n",
    "A"
   ],
   "metadata": {
    "collapsed": false,
    "pycharm": {
     "name": "#%%\n",
     "is_executing": false
    }
   }
  },
  {
   "cell_type": "markdown",
   "source": [
    "# 2 单变量的线形回归\n",
    "\n",
    "整个2的部分需要根据城市人口数量，预测开小吃店的利润\n",
    "数据在ex1data1.txt里，第一列是城市人口数量，第二列是该城市小吃店利润。"
   ],
   "metadata": {
    "collapsed": false
   }
  },
  {
   "cell_type": "markdown",
   "source": [
    "## 2.1 Plotting the Data\n",
    "\n",
    "读入数据，展示数据"
   ],
   "metadata": {
    "collapsed": false,
    "pycharm": {
     "name": "#%% md\n"
    }
   }
  },
  {
   "cell_type": "code",
   "execution_count": 253,
   "outputs": [
    {
     "data": {
      "text/plain": "   Population   Profit\n0      6.1101  17.5920\n1      5.5277   9.1302\n2      8.5186  13.6620\n3      7.0032  11.8540\n4      5.8598   6.8233",
      "text/html": "<div>\n<style scoped>\n    .dataframe tbody tr th:only-of-type {\n        vertical-align: middle;\n    }\n\n    .dataframe tbody tr th {\n        vertical-align: top;\n    }\n\n    .dataframe thead th {\n        text-align: right;\n    }\n</style>\n<table border=\"1\" class=\"dataframe\">\n  <thead>\n    <tr style=\"text-align: right;\">\n      <th></th>\n      <th>Population</th>\n      <th>Profit</th>\n    </tr>\n  </thead>\n  <tbody>\n    <tr>\n      <td>0</td>\n      <td>6.1101</td>\n      <td>17.5920</td>\n    </tr>\n    <tr>\n      <td>1</td>\n      <td>5.5277</td>\n      <td>9.1302</td>\n    </tr>\n    <tr>\n      <td>2</td>\n      <td>8.5186</td>\n      <td>13.6620</td>\n    </tr>\n    <tr>\n      <td>3</td>\n      <td>7.0032</td>\n      <td>11.8540</td>\n    </tr>\n    <tr>\n      <td>4</td>\n      <td>5.8598</td>\n      <td>6.8233</td>\n    </tr>\n  </tbody>\n</table>\n</div>"
     },
     "metadata": {},
     "output_type": "execute_result",
     "execution_count": 253
    }
   ],
   "source": [
    "path = 'E:\\机器学习(吴恩达)\\ML数据\\ml_ex1\\ex1data1.txt'\n",
    "data = pd.read_csv(path, header=None, names=['Population', 'Profit'])\n",
    "data.head()"
   ],
   "metadata": {
    "collapsed": false,
    "pycharm": {
     "name": "#%%\n",
     "is_executing": false
    }
   }
  },
  {
   "cell_type": "code",
   "execution_count": 254,
   "outputs": [
    {
     "data": {
      "text/plain": "<Figure size 864x576 with 1 Axes>",
      "image/png": "[encoded data removed]"
     },
     "metadata": {
      "needs_background": "light"
     },
     "output_type": "display_data"
    }
   ],
   "source": [
    "data.plot(kind='scatter', x='Population', y='Profit', figsize=(12,8))\n",
    "plt.show()"
   ],
   "metadata": {
    "collapsed": false,
    "pycharm": {
     "name": "#%%\n",
     "is_executing": false
    }
   }
  },
  {
   "cell_type": "markdown",
   "source": [
    "## 2.2 梯度下降\n",
    "训练线性回归的参数$\\theta$"
   ],
   "metadata": {
    "collapsed": false
   }
  },
  {
   "cell_type": "markdown",
   "source": [
    "### 2.2.1 约定公式\n"
   ],
   "metadata": {
    "collapsed": false
   }
  },
  {
   "cell_type": "code",
   "execution_count": 255,
   "outputs": [],
   "source": [
    "def computerCost(X, y, theta):\n",
    "    inner = np.power(((X * theta.T) - y), 2)\n",
    "    return np.sum(inner) / (2 * len(X))"
   ],
   "metadata": {
    "collapsed": false,
    "pycharm": {
     "name": "#%%\n",
     "is_executing": false
    }
   }
  },
  {
   "cell_type": "markdown",
   "source": [
    "### 2.2.2 实现\n",
    "加入一列x，用于更新$\\theta_0$,然后将$\\theta$初始化为0，学习率初始化为0.01，迭代次数为1500次"
   ],
   "metadata": {
    "collapsed": false
   }
  },
  {
   "cell_type": "code",
   "execution_count": 256,
   "outputs": [],
   "source": [
    "data.insert(0, 'Ones', 1)   #在data第1、2列之间插入全是1的一列数\n",
    "#初始化X和y\n",
    "cols = data.shape[1]     # 计算data的列数 cols=3\n",
    "X = data.iloc[:,:-1]     # X是data里的除最后列\n",
    "y = data.iloc[:,cols-1:cols]    # y是data最后一例"
   ],
   "metadata": {
    "collapsed": false,
    "pycharm": {
     "name": "#%%\n",
     "is_executing": false
    }
   }
  },
  {
   "cell_type": "code",
   "execution_count": 257,
   "outputs": [
    {
     "data": {
      "text/plain": "   Ones  Population\n0     1      6.1101\n1     1      5.5277\n2     1      8.5186\n3     1      7.0032\n4     1      5.8598",
      "text/html": "<div>\n<style scoped>\n    .dataframe tbody tr th:only-of-type {\n        vertical-align: middle;\n    }\n\n    .dataframe tbody tr th {\n        vertical-align: top;\n    }\n\n    .dataframe thead th {\n        text-align: right;\n    }\n</style>\n<table border=\"1\" class=\"dataframe\">\n  <thead>\n    <tr style=\"text-align: right;\">\n      <th></th>\n      <th>Ones</th>\n      <th>Population</th>\n    </tr>\n  </thead>\n  <tbody>\n    <tr>\n      <td>0</td>\n      <td>1</td>\n      <td>6.1101</td>\n    </tr>\n    <tr>\n      <td>1</td>\n      <td>1</td>\n      <td>5.5277</td>\n    </tr>\n    <tr>\n      <td>2</td>\n      <td>1</td>\n      <td>8.5186</td>\n    </tr>\n    <tr>\n      <td>3</td>\n      <td>1</td>\n      <td>7.0032</td>\n    </tr>\n    <tr>\n      <td>4</td>\n      <td>1</td>\n      <td>5.8598</td>\n    </tr>\n  </tbody>\n</table>\n</div>"
     },
     "metadata": {},
     "output_type": "execute_result",
     "execution_count": 257
    }
   ],
   "source": [
    "X.head()  #head 是观察前五行"
   ],
   "metadata": {
    "collapsed": false,
    "pycharm": {
     "name": "#%%\n",
     "is_executing": false
    }
   }
  },
  {
   "cell_type": "code",
   "execution_count": 258,
   "outputs": [
    {
     "data": {
      "text/plain": "    Profit\n0  17.5920\n1   9.1302\n2  13.6620\n3  11.8540\n4   6.8233",
      "text/html": "<div>\n<style scoped>\n    .dataframe tbody tr th:only-of-type {\n        vertical-align: middle;\n    }\n\n    .dataframe tbody tr th {\n        vertical-align: top;\n    }\n\n    .dataframe thead th {\n        text-align: right;\n    }\n</style>\n<table border=\"1\" class=\"dataframe\">\n  <thead>\n    <tr style=\"text-align: right;\">\n      <th></th>\n      <th>Profit</th>\n    </tr>\n  </thead>\n  <tbody>\n    <tr>\n      <td>0</td>\n      <td>17.5920</td>\n    </tr>\n    <tr>\n      <td>1</td>\n      <td>9.1302</td>\n    </tr>\n    <tr>\n      <td>2</td>\n      <td>13.6620</td>\n    </tr>\n    <tr>\n      <td>3</td>\n      <td>11.8540</td>\n    </tr>\n    <tr>\n      <td>4</td>\n      <td>6.8233</td>\n    </tr>\n  </tbody>\n</table>\n</div>"
     },
     "metadata": {},
     "output_type": "execute_result",
     "execution_count": 258
    }
   ],
   "source": [
    "y.head()"
   ],
   "metadata": {
    "collapsed": false,
    "pycharm": {
     "name": "#%%\n",
     "is_executing": false
    }
   }
  },
  {
   "cell_type": "markdown",
   "source": [],
   "metadata": {
    "collapsed": false
   }
  },
  {
   "cell_type": "code",
   "execution_count": 259,
   "outputs": [
    {
     "data": {
      "text/plain": "((97, 2), (97, 1), (1, 2))"
     },
     "metadata": {},
     "output_type": "execute_result",
     "execution_count": 259
    }
   ],
   "source": [
    "#代价函数应该是numpy矩阵，转换X和y，初始化theta\n",
    "#首先把变量由data frames 转化为矩阵形式\n",
    "X = np.matrix(X.values)\n",
    "y = np.matrix(y.values)  \n",
    "theta = np.matrix(np.array([0,0]))  \n",
    "\n",
    "X.shape, y.shape, theta.shape"
   ],
   "metadata": {
    "collapsed": false,
    "pycharm": {
     "name": "#%%\n",
     "is_executing": false
    }
   }
  },
  {
   "cell_type": "markdown",
   "source": [
    "### 2.2.3 计算J（$\\theta$） \n",
    " \n",
    " "
   ],
   "metadata": {
    "collapsed": false
   }
  },
  {
   "cell_type": "code",
   "execution_count": 260,
   "outputs": [
    {
     "data": {
      "text/plain": "32.072733877455676"
     },
     "metadata": {},
     "output_type": "execute_result",
     "execution_count": 260
    }
   ],
   "source": [
    "computerCost(X, y, theta)"
   ],
   "metadata": {
    "collapsed": false,
    "pycharm": {
     "name": "#%%\n",
     "is_executing": false
    }
   }
  },
  {
   "cell_type": "markdown",
   "source": [
    "### 2.2.4 梯度下降"
   ],
   "metadata": {
    "collapsed": false
   }
  },
  {
   "cell_type": "code",
   "execution_count": 261,
   "outputs": [],
   "source": [
    "def gradientDescent(X, y, theta, alpha, iters):\n",
    "    temp = np.matrix(np.zeros(theta.shape))   #初始化一个临时矩阵（1， 2）\n",
    "    paramenters = int(theta.ravel().shape[1])  \n",
    "    cost = np.zeros(iters)   #初始化一个ndarray，包含每次iters的cost\n",
    "    #利用向量化进一步求解\n",
    "    for i in range(iters):\n",
    "        error = (X * theta.T) - y\n",
    "        \n",
    "        for j in range(paramenters):\n",
    "            term = np.multiply(error, X[:,j])\n",
    "            temp[0, j] = theta[0, j] - ((alpha / len(X)) * np.sum(term))\n",
    "            \n",
    "        theta = temp\n",
    "        cost[i] = computerCost(X, y, theta)\n",
    "    return theta, cost\n",
    "# 实现$\\theta$的更新"
   ],
   "metadata": {
    "collapsed": false,
    "pycharm": {
     "name": "#%%\n",
     "is_executing": false
    }
   }
  },
  {
   "cell_type": "code",
   "execution_count": 262,
   "outputs": [
    {
     "data": {
      "text/plain": "matrix([[-3.63029144,  1.16636235]])"
     },
     "metadata": {},
     "output_type": "execute_result",
     "execution_count": 262
    }
   ],
   "source": [
    "# 初始化学习率为0.01 进行迭代的次数1500\n",
    "alpha = 0.01\n",
    "iters = 1500\n",
    "#运行梯度下降算法来将我们的参数θ适合于训练集\n",
    "g, cost = gradientDescent(X, y, theta, alpha, iters)\n",
    "g"
   ],
   "metadata": {
    "collapsed": false,
    "pycharm": {
     "name": "#%%\n",
     "is_executing": false
    }
   }
  },
  {
   "cell_type": "code",
   "execution_count": 263,
   "outputs": [
    {
     "name": "stdout",
     "text": [
      "predict1: [[0.45197679]]\n",
      "predict2: [[4.53424501]]\n"
     ],
     "output_type": "stream"
    }
   ],
   "source": [
    "#预测35000和70000城市规模的小吃摊利润\n",
    "predict1 = [1, 3.5] * g.T\n",
    "print(\"predict1:\",predict1)\n",
    "predict2 = [1, 7] * g.T\n",
    "print(\"predict2:\",predict2)\n"
   ],
   "metadata": {
    "collapsed": false,
    "pycharm": {
     "name": "#%%\n",
     "is_executing": false
    }
   }
  },
  {
   "cell_type": "code",
   "execution_count": 264,
   "outputs": [
    {
     "data": {
      "text/plain": "<Figure size 864x576 with 1 Axes>",
      "image/png": "[encoded data removed]"
     },
     "metadata": {
      "needs_background": "light"
     },
     "output_type": "display_data"
    }
   ],
   "source": [
    "# 原始数据以及拟合的直线\n",
    "# np.linspace()在指定的间隔内返回均匀间隔的数字。\n",
    "x = np.linspace(data.Population.min(), data.Population.max(), 100)  \n",
    "f = g[0, 0] + (g[0, 1] * x)\n",
    "\n",
    "fig,ax = plt.subplots(figsize = (12, 8))\n",
    "ax.plot(x, f, 'r', label='Prediction')\n",
    "ax.scatter(data.Population, data.Profit, label='Traning Data')\n",
    "ax.legend(loc = 2)  # 2表示左上角\n",
    "ax.set_xlabel('Population')\n",
    "ax.set_ylabel('Profit')\n",
    "ax.set_title('Predicted Profit vs. Population Size')\n",
    "plt.show()\n"
   ],
   "metadata": {
    "collapsed": false,
    "pycharm": {
     "name": "#%%\n",
     "is_executing": false
    }
   }
  },
  {
   "cell_type": "code",
   "execution_count": 265,
   "outputs": [
    {
     "data": {
      "text/plain": "<Figure size 864x576 with 1 Axes>",
      "image/png": "[encoded data removed]"
     },
     "metadata": {
      "needs_background": "light"
     },
     "output_type": "display_data"
    }
   ],
   "source": [
    "# 绘制梯度方程序函数也在每个训练迭代中输出一个代价的向量 \n",
    "fig, ax = plt.subplots(figsize = (12, 8))\n",
    "ax.plot(np.arange(iters), cost, 'r')  # np.arange()返回等差数组\n",
    "ax.set_xlabel('Iterations')\n",
    "ax.set_ylabel('Cost')\n",
    "ax.set_title('Error vs. Training Iters')\n",
    "plt.show()"
   ],
   "metadata": {
    "collapsed": false,
    "pycharm": {
     "name": "#%%\n",
     "is_executing": false
    }
   }
  },
  {
   "cell_type": "markdown",
   "source": [
    "# 正规方程法\n",
    "正规方程是通过求解下面的方程来找出使得代价函数最小的参数的：$\\frac{\\partial }{\\partial {{\\theta }_{j}}}J\\left( {{\\theta }_{j}} \\right)=0$ 。\n",
    "假设我们的训练集特征矩阵为 X（包含了${{x}_{0}}=1$）并且我们的训练集结果为向量 y，则利用正规方程解出向量 $\\theta ={{\\left( {{X}^{T}}X \\right)}^{-1}}{{X}^{T}}y$ 。\n",
    "上标T代表矩阵转置，上标-1 代表矩阵的逆。设矩阵$A={{X}^{T}}X$，则：${{\\left( {{X}^{T}}X \\right)}^{-1}}={{A}^{-1}}$\n",
    "\n",
    "梯度下降与正规方程的比较：\n",
    "梯度下降：需要选择学习率α，需要多次迭代，当特征数量n大时也能较好适用，适用于各种类型的模型\t\n",
    "正规方程：不需要选择学习率α，一次计算得出，需要计算${{\\left( {{X}^{T}}X \\right)}^{-1}}$，如果特征数量n较大则运算代价大，因为矩阵逆的计算时间复杂度为$O(n3)$，通常来说当$n$小于10000 时还是可以接受的，只适用于线性模型，不适合逻辑回归模型等其他模型"
   ],
   "metadata": {
    "collapsed": false,
    "pycharm": {
     "name": "#%% md\n"
    }
   }
  },
  {
   "cell_type": "code",
   "source": [
    " \n",
    "def normalEqn(X, y):\n",
    "    theta = np.linalg.inv(X.T*X)*X.T*y   #X.T*X等价于X.T.dot(X)\n",
    "    return theta.T\n",
    "g11 = normalEqn(X,y)\n",
    "g11\n",
    "\n",
    "# 打印两种方法的得到的参数值\n",
    "print(g,'\\n',g11)"
   ],
   "metadata": {
    "collapsed": false,
    "pycharm": {
     "name": "#%% \n",
     "is_executing": false
    }
   },
   "execution_count": 266,
   "outputs": [
    {
     "name": "stdout",
     "text": [
      "[[-3.63029144  1.16636235]] \n",
      " [[-3.89578088  1.19303364]]\n"
     ],
     "output_type": "stream"
    }
   ]
  },
  {
   "cell_type": "markdown",
   "source": [
    "# 3 多变量的线形回归\n",
    "\n",
    "ex1data2.txt里的数据，第一列是房屋大小，第二列是卧室数量，第三列是房屋售价\n",
    "根据已有数据，建立模型，预测房屋的售价"
   ],
   "metadata": {
    "collapsed": false
   }
  },
  {
   "cell_type": "code",
   "execution_count": 267,
   "outputs": [
    {
     "data": {
      "text/plain": "   Size  Bedrooms   Price\n0  2104         3  399900\n1  1600         3  329900\n2  2400         3  369000\n3  1416         2  232000\n4  3000         4  539900",
      "text/html": "<div>\n<style scoped>\n    .dataframe tbody tr th:only-of-type {\n        vertical-align: middle;\n    }\n\n    .dataframe tbody tr th {\n        vertical-align: top;\n    }\n\n    .dataframe thead th {\n        text-align: right;\n    }\n</style>\n<table border=\"1\" class=\"dataframe\">\n  <thead>\n    <tr style=\"text-align: right;\">\n      <th></th>\n      <th>Size</th>\n      <th>Bedrooms</th>\n      <th>Price</th>\n    </tr>\n  </thead>\n  <tbody>\n    <tr>\n      <td>0</td>\n      <td>2104</td>\n      <td>3</td>\n      <td>399900</td>\n    </tr>\n    <tr>\n      <td>1</td>\n      <td>1600</td>\n      <td>3</td>\n      <td>329900</td>\n    </tr>\n    <tr>\n      <td>2</td>\n      <td>2400</td>\n      <td>3</td>\n      <td>369000</td>\n    </tr>\n    <tr>\n      <td>3</td>\n      <td>1416</td>\n      <td>2</td>\n      <td>232000</td>\n    </tr>\n    <tr>\n      <td>4</td>\n      <td>3000</td>\n      <td>4</td>\n      <td>539900</td>\n    </tr>\n  </tbody>\n</table>\n</div>"
     },
     "metadata": {},
     "output_type": "execute_result",
     "execution_count": 267
    }
   ],
   "source": [
    "path = 'E:\\机器学习(吴恩达)\\ML数据\\ml_ex1\\ex1data2.txt'\n",
    "data2 = pd.read_csv(path, header=None, names=['Size', 'Bedrooms', 'Price'])\n",
    "data2.head()"
   ],
   "metadata": {
    "collapsed": false,
    "pycharm": {
     "name": "#%%\n",
     "is_executing": false
    }
   }
  },
  {
   "cell_type": "markdown",
   "source": [
    "## 3.1 特征归一化 \n",
    "\n",
    "观察数据发现，size变量是bedrooms变量的1000倍大小,统一量级会让梯度下降收敛的更快。做法就是，将每类特征减去他的平均值后除以标准差"
   ],
   "metadata": {
    "collapsed": false
   }
  },
  {
   "cell_type": "code",
   "source": [
    "data2 = (data2 -data2.mean()) / data2.std()\n",
    "data2.head()"
   ],
   "metadata": {
    "collapsed": false,
    "pycharm": {
     "name": "#%% \n",
     "is_executing": false
    }
   },
   "execution_count": 268,
   "outputs": [
    {
     "data": {
      "text/plain": "       Size  Bedrooms     Price\n0  0.130010 -0.223675  0.475747\n1 -0.504190 -0.223675 -0.084074\n2  0.502476 -0.223675  0.228626\n3 -0.735723 -1.537767 -0.867025\n4  1.257476  1.090417  1.595389",
      "text/html": "<div>\n<style scoped>\n    .dataframe tbody tr th:only-of-type {\n        vertical-align: middle;\n    }\n\n    .dataframe tbody tr th {\n        vertical-align: top;\n    }\n\n    .dataframe thead th {\n        text-align: right;\n    }\n</style>\n<table border=\"1\" class=\"dataframe\">\n  <thead>\n    <tr style=\"text-align: right;\">\n      <th></th>\n      <th>Size</th>\n      <th>Bedrooms</th>\n      <th>Price</th>\n    </tr>\n  </thead>\n  <tbody>\n    <tr>\n      <td>0</td>\n      <td>0.130010</td>\n      <td>-0.223675</td>\n      <td>0.475747</td>\n    </tr>\n    <tr>\n      <td>1</td>\n      <td>-0.504190</td>\n      <td>-0.223675</td>\n      <td>-0.084074</td>\n    </tr>\n    <tr>\n      <td>2</td>\n      <td>0.502476</td>\n      <td>-0.223675</td>\n      <td>0.228626</td>\n    </tr>\n    <tr>\n      <td>3</td>\n      <td>-0.735723</td>\n      <td>-1.537767</td>\n      <td>-0.867025</td>\n    </tr>\n    <tr>\n      <td>4</td>\n      <td>1.257476</td>\n      <td>1.090417</td>\n      <td>1.595389</td>\n    </tr>\n  </tbody>\n</table>\n</div>"
     },
     "metadata": {},
     "output_type": "execute_result",
     "execution_count": 268
    }
   ]
  },
  {
   "cell_type": "markdown",
   "source": [
    "## 3.2 梯度下降"
   ],
   "metadata": {
    "collapsed": false
   }
  },
  {
   "cell_type": "code",
   "execution_count": 269,
   "outputs": [
    {
     "data": {
      "text/plain": "matrix([[-1.10856950e-16,  8.84042349e-01, -5.24551809e-02]])"
     },
     "metadata": {},
     "output_type": "execute_result",
     "execution_count": 269
    }
   ],
   "source": [
    "# 加一列常数列\n",
    "data2.insert(0, 'Ones', 1)\n",
    "#初始化X y\n",
    "cols = data2.shape[1]     # 计算data2的列数 cols=3\n",
    "X2 = data2.iloc[:,:-1]     # X2是data2里的除最后列\n",
    "y2 = data2.iloc[:,cols-1:cols]    # y2是data2最后一例\n",
    "\n",
    "# 转换成matrix格式，初始化theta\n",
    "X2 = np.matrix(X2.values)\n",
    "y2 = np.matrix(y2.values)\n",
    "theta2 = np.matrix(np.array([0,0,0]))\n",
    "\n",
    "# 运行梯度下降算法\n",
    "g2, cost2 = gradientDescent(X2, y2, theta2, alpha, iters)\n",
    "g2\n"
   ],
   "metadata": {
    "collapsed": false,
    "pycharm": {
     "name": "#%%\n",
     "is_executing": false
    }
   }
  }
 ],
 "metadata": {
  "kernelspec": {
   "display_name": "Python 3",
   "language": "python",
   "name": "python3"
  },
  "language_info": {
   "codemirror_mode": {
    "name": "ipython",
    "version": 2
   },
   "file_extension": ".py",
   "mimetype": "text/x-python",
   "name": "python",
   "nbconvert_exporter": "python",
   "pygments_lexer": "ipython2",
   "version": "2.7.6"
  },
  "pycharm": {
   "stem_cell": {
    "cell_type": "raw",
    "source": [],
    "metadata": {
     "collapsed": false
    }
   }
  }
 },
 "nbformat": 4,
 "nbformat_minor": 0
}